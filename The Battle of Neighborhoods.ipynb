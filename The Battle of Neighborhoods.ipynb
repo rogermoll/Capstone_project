{
    "cells": [
        {
            "cell_type": "markdown",
            "metadata": {
                "collapsed": true
            },
            "source": "# Capstone Project - The Battle of Neighborhoods (Week 1)\n## Issue Statement:\nCities are very diverse and are the financial capitals of their respective countries. To be close to the markets and customers, companies are put into challenging situation to make the best choice. Where shall the future regional headquarters be to fit best into a companies purpose. For this decision, multiple factors such as taxation, labour and skill abundancy, political stability among others are essential decision variables.\n\nFor this Capstone assignment it is assumed that we advice a company in their decision process of choosing a location for their Europe headquarter. The company has pre-selected three cities in which a local office already exists:\n\n* [London (GBP)](https://en.wikipedia.org/wiki/London)\n* [Zurich (CHE)](https://en.wikipedia.org/wiki/Z%C3%BCrich)\n* [Barcelona (SPA)](https://en.wikipedia.org/wiki/Barcelona)\n\nEach of these cities are attractive places to live and work. All are very close to international airports and are appreciated by Expats. The organisation wants to settle his new headquarter based on the following decision matrix:\n\n<table><thead>\n<tr><th>Nb.</th><th>Attribute</th><th>Details</th><th>Weight</th></tr>\n</thead>\n<tbody>\n<tr><td>1.</td><td>Labour climate</td><td>labour cost, productivity, skills availability</td><td>6</td></tr>\n<tr><td>2.</td><td>Political environment</td><td>Effectivness of goverment, policy consistency, corruption</td><td>7</td></tr>\n<tr><td>3.</td><td>Access to Universities</td><td>Nb. of Univerities and repution, ranking, size</td><td>5</td></tr>\n<tr><td>4.</td><td>Quality of life</td><td>standard of living, recreation, health</td><td>4</td></tr>\n<tr><td>5.</td><td>Labour and skill aboundancy</td><td>Skill levle, unemployment rate, labour unions, wage rate</td><td>1</td></tr>\n<tr><td>6.</td><td>Cost of labour</td><td>Productivity, exchange rate, </td><td>2</td></tr>\n<tr><td>7.</td><td>Tax structure</td><td>Corp. tax rate, social sec. cost, rgulatory barriers </td><td>3</td></tr>\n</tbody>\n</table>\n\nA special focus is given on \"Gen-Y\" suitability as this will become both the predominant customer base as well as the main source of future employees and leaders.\n\nGenY or aka \"Millennials\" is defined as the demographic cohort following with the early 1980s as starting birth years and the mid-1990s to early 2000s as ending birth years [Wikipedia](https://en.wikipedia.org/wiki/Millennials), have the following characteristics:\n* Millennials are tech-savvy as grew up with technology, and they rely on it. \n* Millennials are family-centric and are willing to trade high pay for fewer billable hours, flexible schedules, and a better work/life balance. \n* Millennials are confident, ambitious, achievement-oriented but have high expectations towards their employers and aren't afraid to question authority. Generation Y wants meaningful work and a solid learning curve.\n* Millennials are team-oriented. They want to be included and involved. \n* Generation Y craves attention, feedback and guidance. \n* Generation Y is prone to \"job-hopping\" as they're always looking for something new and better. \n\nAn interesting summary is provided by [Goldman Sachs](https://www.goldmansachs.com/insights/archive/millennials/). However, any new location should be \"cool\" with this Generation's life style and preferences' as to offer a natural cause to remain and limited need for location moves.\n\n## Success criteria and audience:\nThe analysis is completed successfully, if based on the obtained data set, a recommendation of a) the city and b) the borough in the city can be made towards the board of directors. The board shall be enabled to take the decision with confidence and move on to initiate the project \"The New EUR head headquarter\".\n\nThe decision takers are not interested in the actual data gathering process but very much in the validity and roboustness of the findings to determin cost and prospects of the set up.\n\n## Methodology:\n1. Define and agree on the decision matrix with the board, i.e. ensure the weights and priorites reflect the customers need.\n2. Obtain the data, i.e. check what data can support the corresponding attribute in the matrix\n3. Clean and harmonice the data, from the various sources\n4. Prepare the data set and analys it for the three cities\n5. Cluster the data by determining the optimal cluster number for the pre-selected city and allow a pre-selection of the recommended city\n6. Based on the pre-selection, run a comparison of the boroughs to match the companies needs best\n7. Conclude the findings in a recommendation\n\n## Data Acquisition and Cleaning\n### Data Sources:\nFor the assignment a wide variety of data sources are used of well-known and regarded sources. The focus on the data sources is on applying three different methodologies to obtain the data\na) API direct connection\nb) csv, xlsx files download\nc) Web crawling, i.e. obtaining information directly from html-code\n\nAll data sources are merged into one data frame based on their geographical identity\n\n**Sources used:**\n* [Foursquare API](https://foursquare.com/developers/)\n* [The World Bank](https://databank.worldbank.org/source/worldwide-governance-indicators#)\n* [OECD](https://stats.oecd.org/)\n* [Renting London](https://www.rentbarometer.com/london/all-prices/by-name.html)\n* [Renting Zurich](https://www.hev-schweiz.ch/vermieten/statistiken/mietpreise/durchschnittliche-mietpreise/)\n* [Buying Barcelona](https://www.statista.com/statistics/765380/average-price-per-square-meter-of-houses-in-barcelona-by-district/)\n* [Statista](https://www.statista.com/)\n* [International transparency report](https://www.transparency.org/en/cpi/2019/results/table)\n\n**Postal codes and boroughs:**\n* [London](https://www.doogal.co.uk/london_postcodes.php)\n* [Barcelona](https://en.wikipedia.org/wiki/List_of_postal_codes_in_Spain#08000%E2%80%9308999:_Barcelona)\n* [Zurich](https://www.geonames.org/postal-codes/CH/ZH/zurich.html)\n\n### Data Cleaning:\nThe data shall be inspected, cleaned and verified to guarantee:\n* high validity, i.e. the degree to which the data conform to defined business rules or constraints\n* high accuracy, i.e. the degree to which the data is close to the true values\n* completeness, i.e. the degree to which all required data is known\n* consistency, i.e. the degree to which the data is consistent\n* high uniformity, i.e. the degree to which the data is specified using the same unit of measure \n\n\n\n"
        },
        {
            "cell_type": "markdown",
            "metadata": {},
            "source": "## Capstone Project - The Battle of Neighborhoods (Week 1)\n### Acquiring Data sets:"
        },
        {
            "cell_type": "code",
            "execution_count": 9,
            "metadata": {
                "scrolled": true
            },
            "outputs": [
                {
                    "data": {
                        "text/html": "<div>\n<style scoped>\n    .dataframe tbody tr th:only-of-type {\n        vertical-align: middle;\n    }\n\n    .dataframe tbody tr th {\n        vertical-align: top;\n    }\n\n    .dataframe thead th {\n        text-align: right;\n    }\n</style>\n<table border=\"1\" class=\"dataframe\">\n  <thead>\n    <tr style=\"text-align: right;\">\n      <th></th>\n      <th>Postcode</th>\n      <th>In Use?</th>\n      <th>Latitude</th>\n      <th>Longitude</th>\n      <th>Easting</th>\n      <th>Northing</th>\n      <th>Grid Ref</th>\n      <th>County</th>\n      <th>District</th>\n      <th>Ward</th>\n      <th>...</th>\n      <th>User Type</th>\n      <th>Last updated</th>\n      <th>Nearest station</th>\n      <th>Distance to station</th>\n      <th>Postcode area</th>\n      <th>Postcode district</th>\n      <th>Police force</th>\n      <th>Water company</th>\n      <th>Plus Code</th>\n      <th>Average Income</th>\n    </tr>\n  </thead>\n  <tbody>\n    <tr>\n      <th>0</th>\n      <td>BR1 1AA</td>\n      <td>Yes</td>\n      <td>51.401546</td>\n      <td>0.015415</td>\n      <td>540291</td>\n      <td>168873</td>\n      <td>TQ402688</td>\n      <td>Greater London</td>\n      <td>Bromley</td>\n      <td>Bromley Town</td>\n      <td>...</td>\n      <td>0</td>\n      <td>2020-06-03</td>\n      <td>Bromley South</td>\n      <td>0.218257</td>\n      <td>BR</td>\n      <td>BR1</td>\n      <td>Metropolitan Police</td>\n      <td>Thames Water</td>\n      <td>9F32C228+J5</td>\n      <td>63100</td>\n    </tr>\n    <tr>\n      <th>1</th>\n      <td>BR1 1AB</td>\n      <td>Yes</td>\n      <td>51.406333</td>\n      <td>0.015208</td>\n      <td>540262</td>\n      <td>169405</td>\n      <td>TQ402694</td>\n      <td>Greater London</td>\n      <td>Bromley</td>\n      <td>Bromley Town</td>\n      <td>...</td>\n      <td>0</td>\n      <td>2020-06-03</td>\n      <td>Bromley North</td>\n      <td>0.253666</td>\n      <td>BR</td>\n      <td>BR1</td>\n      <td>Metropolitan Police</td>\n      <td>Thames Water</td>\n      <td>9F32C248+G3</td>\n      <td>56100</td>\n    </tr>\n    <tr>\n      <th>2</th>\n      <td>BR1 1AD</td>\n      <td>No</td>\n      <td>51.400057</td>\n      <td>0.016715</td>\n      <td>540386</td>\n      <td>168710</td>\n      <td>TQ403687</td>\n      <td>Greater London</td>\n      <td>Bromley</td>\n      <td>Bromley Town</td>\n      <td>...</td>\n      <td>1</td>\n      <td>2020-06-03</td>\n      <td>Bromley South</td>\n      <td>0.044559</td>\n      <td>BR</td>\n      <td>BR1</td>\n      <td>Metropolitan Police</td>\n      <td>NaN</td>\n      <td>9F32C228+2M</td>\n      <td>63100</td>\n    </tr>\n    <tr>\n      <th>3</th>\n      <td>BR1 1AE</td>\n      <td>Yes</td>\n      <td>51.404543</td>\n      <td>0.014195</td>\n      <td>540197</td>\n      <td>169204</td>\n      <td>TQ401692</td>\n      <td>Greater London</td>\n      <td>Bromley</td>\n      <td>Bromley Town</td>\n      <td>...</td>\n      <td>0</td>\n      <td>2020-06-03</td>\n      <td>Bromley North</td>\n      <td>0.462939</td>\n      <td>BR</td>\n      <td>BR1</td>\n      <td>Metropolitan Police</td>\n      <td>Thames Water</td>\n      <td>9F32C237+RM</td>\n      <td>63100</td>\n    </tr>\n    <tr>\n      <th>4</th>\n      <td>BR1 1AF</td>\n      <td>Yes</td>\n      <td>51.401392</td>\n      <td>0.014948</td>\n      <td>540259</td>\n      <td>168855</td>\n      <td>TQ402688</td>\n      <td>Greater London</td>\n      <td>Bromley</td>\n      <td>Bromley Town</td>\n      <td>...</td>\n      <td>0</td>\n      <td>2020-06-03</td>\n      <td>Bromley South</td>\n      <td>0.227664</td>\n      <td>BR</td>\n      <td>BR1</td>\n      <td>Metropolitan Police</td>\n      <td>Thames Water</td>\n      <td>9F32C227+HX</td>\n      <td>63100</td>\n    </tr>\n  </tbody>\n</table>\n<p>5 rows \u00d7 47 columns</p>\n</div>",
                        "text/plain": "  Postcode In Use?   Latitude  Longitude  Easting  Northing  Grid Ref  \\\n0  BR1 1AA     Yes  51.401546   0.015415   540291    168873  TQ402688   \n1  BR1 1AB     Yes  51.406333   0.015208   540262    169405  TQ402694   \n2  BR1 1AD      No  51.400057   0.016715   540386    168710  TQ403687   \n3  BR1 1AE     Yes  51.404543   0.014195   540197    169204  TQ401692   \n4  BR1 1AF     Yes  51.401392   0.014948   540259    168855  TQ402688   \n\n           County District          Ward  ... User Type Last updated  \\\n0  Greater London  Bromley  Bromley Town  ...         0   2020-06-03   \n1  Greater London  Bromley  Bromley Town  ...         0   2020-06-03   \n2  Greater London  Bromley  Bromley Town  ...         1   2020-06-03   \n3  Greater London  Bromley  Bromley Town  ...         0   2020-06-03   \n4  Greater London  Bromley  Bromley Town  ...         0   2020-06-03   \n\n  Nearest station Distance to station Postcode area Postcode district  \\\n0   Bromley South            0.218257            BR               BR1   \n1   Bromley North            0.253666            BR               BR1   \n2   Bromley South            0.044559            BR               BR1   \n3   Bromley North            0.462939            BR               BR1   \n4   Bromley South            0.227664            BR               BR1   \n\n          Police force Water company    Plus Code  Average Income  \n0  Metropolitan Police  Thames Water  9F32C228+J5           63100  \n1  Metropolitan Police  Thames Water  9F32C248+G3           56100  \n2  Metropolitan Police           NaN  9F32C228+2M           63100  \n3  Metropolitan Police  Thames Water  9F32C237+RM           63100  \n4  Metropolitan Police  Thames Water  9F32C227+HX           63100  \n\n[5 rows x 47 columns]"
                    },
                    "execution_count": 9,
                    "metadata": {},
                    "output_type": "execute_result"
                }
            ],
            "source": "#Download London/UK postal codes along with Longitude and Latitude information\nimport pandas as pd\nplz_lon = pd.read_csv('https://www.doogal.co.uk/UKPostcodesCSV.ashx?area=London')\nplz_lon.head()"
        },
        {
            "cell_type": "code",
            "execution_count": 149,
            "metadata": {},
            "outputs": [
                {
                    "data": {
                        "text/html": "<div>\n<style scoped>\n    .dataframe tbody tr th:only-of-type {\n        vertical-align: middle;\n    }\n\n    .dataframe tbody tr th {\n        vertical-align: top;\n    }\n\n    .dataframe thead th {\n        text-align: right;\n    }\n</style>\n<table border=\"1\" class=\"dataframe\">\n  <thead>\n    <tr style=\"text-align: right;\">\n      <th></th>\n      <th>Poastalcode</th>\n      <th>District</th>\n      <th>State</th>\n      <th>Valid</th>\n      <th>geo_point_2d</th>\n    </tr>\n  </thead>\n  <tbody>\n    <tr>\n      <th>0</th>\n      <td>8000</td>\n      <td>Zurich</td>\n      <td>ZH</td>\n      <td>01.01.90</td>\n      <td>NaN</td>\n    </tr>\n    <tr>\n      <th>1</th>\n      <td>8005</td>\n      <td>Zurich</td>\n      <td>ZH</td>\n      <td>01.01.90</td>\n      <td>47.3889310308, 8.52186331434</td>\n    </tr>\n    <tr>\n      <th>2</th>\n      <td>8010</td>\n      <td>Zurich BZ FP</td>\n      <td>ZH</td>\n      <td>01.03.03</td>\n      <td>NaN</td>\n    </tr>\n    <tr>\n      <th>3</th>\n      <td>8022</td>\n      <td>Zurich</td>\n      <td>ZH</td>\n      <td>10.01.98</td>\n      <td>NaN</td>\n    </tr>\n    <tr>\n      <th>4</th>\n      <td>8024</td>\n      <td>Zurich</td>\n      <td>ZH</td>\n      <td>01.01.90</td>\n      <td>NaN</td>\n    </tr>\n  </tbody>\n</table>\n</div>",
                        "text/plain": "   Poastalcode      District State     Valid                  geo_point_2d\n0         8000        Zurich    ZH  01.01.90                           NaN\n1         8005        Zurich    ZH  01.01.90  47.3889310308, 8.52186331434\n2         8010  Zurich BZ FP    ZH  01.03.03                           NaN\n3         8022        Zurich    ZH  10.01.98                           NaN\n4         8024        Zurich    ZH  01.01.90                           NaN"
                    },
                    "execution_count": 149,
                    "metadata": {},
                    "output_type": "execute_result"
                }
            ],
            "source": "# The code was removed by Watson Studio for sharing."
        },
        {
            "cell_type": "code",
            "execution_count": null,
            "metadata": {},
            "outputs": [],
            "source": ""
        },
        {
            "cell_type": "code",
            "execution_count": null,
            "metadata": {},
            "outputs": [],
            "source": ""
        },
        {
            "cell_type": "code",
            "execution_count": null,
            "metadata": {},
            "outputs": [],
            "source": ""
        },
        {
            "cell_type": "code",
            "execution_count": null,
            "metadata": {},
            "outputs": [],
            "source": ""
        },
        {
            "cell_type": "code",
            "execution_count": null,
            "metadata": {},
            "outputs": [],
            "source": ""
        },
        {
            "cell_type": "code",
            "execution_count": null,
            "metadata": {},
            "outputs": [],
            "source": ""
        },
        {
            "cell_type": "code",
            "execution_count": null,
            "metadata": {},
            "outputs": [],
            "source": ""
        },
        {
            "cell_type": "code",
            "execution_count": null,
            "metadata": {},
            "outputs": [],
            "source": ""
        }
    ],
    "metadata": {
        "kernelspec": {
            "display_name": "Python 3.6",
            "language": "python",
            "name": "python3"
        },
        "language_info": {
            "codemirror_mode": {
                "name": "ipython",
                "version": 3
            },
            "file_extension": ".py",
            "mimetype": "text/x-python",
            "name": "python",
            "nbconvert_exporter": "python",
            "pygments_lexer": "ipython3",
            "version": "3.6.9"
        }
    },
    "nbformat": 4,
    "nbformat_minor": 1
}