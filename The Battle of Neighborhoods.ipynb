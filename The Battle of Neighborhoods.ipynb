{
    "cells": [
        {
            "attachments": {},
            "cell_type": "markdown",
            "metadata": {
                "collapsed": true
            },
            "source": "# Capstone Project - The Battle of Neighborhoods (Week 1)\n## Issue Statement:\nCities are very diverse and are the financial capitals of their respective countries. Companies with oversee location are often put into the position to make a strategic decision on where to locate regional headquarters. For this decision many factors such as taxation, labour and skill abundancy, political stability and experience with the region are essential decision variables.\n\nFor this Capstone assignment it is assumed that we consult a company in their decision process of choosing a location for their Europe headquarter. The company has pre-selected three cities in which a local office exists already:\n\n* [London (GBP)](https://en.wikipedia.org/wiki/London)\n* [Zurich (CHE)](https://en.wikipedia.org/wiki/Z%C3%BCrich)\n* [Barcelona (SPA)](https://en.wikipedia.org/wiki/Barcelona)\n\nEach of these cities are attractive places to live and work. All are very close to international airports and are appreciated by Expats. The organisation wants to settle his new headquarter based on the following decision matrix:\n\n<table><thead>\n<tr><th>Nb.</th><th>Attribute</th><th>Details</th><th>Weight</th></tr>\n</thead>\n<tbody>\n<tr><td>1.</td><td>Labour climate</td><td>labour cost, productivity, skills availability</td><td>6</td></tr>\n<tr><td>2.</td><td>Political environment</td><td>Effectivness of goverment, policy consistency, corruption</td><td>x</td></tr>\n<tr><td>3.</td><td>Access to Universities</td><td>Nb. of Univerities and repution, ranking, size</td><td>x</td></tr>\n<tr><td>4.</td><td>Quality of life</td><td>standard of living, recreation, health</td><td>x</td></tr>\n<tr><td>5.</td><td>Labour and skill aboundancy</td><td>Skill levle, unemployment rate, labour unions, wage rate</td><td>x</td></tr>\n<tr><td>6.</td><td>Cost of labour</td><td>Productivity, exchange rate, </td><td>x</td></tr>\n<tr><td>7.</td><td>Tax structure</td><td>Corp. tax rate, social sec. cost, rgulatory barriers </td><td>x</td></tr>\n</tbody>\n</table>\n\nA special focus is given on Gen-Y suitability of the future headquarter as this is become both the predominant customer base as well as the main source of future employees and leaders.\n\nGenY/Millennials is defined as the demographic cohort following Generation X and preceding Generation Z with the early 1980s as starting birth years and the mid-1990s to early 2000s as ending birth years [Wikipedia](https://en.wikipedia.org/wiki/Millennials), have the following characteristics:\n* Millennials are Tech-Savvy as grew up with technology, and they rely on it. \n* Millennials Are Family-Centric and are willing to trade high pay for fewer billable hours, flexible schedules, and a better work/life balance. \n* Millennials are confident, ambitious, achievement-oriented but have high expectations towards their employers and aren't afraid to question authority. Generation Y wants meaningful work and a solid learning curve.\n* Millennials are Team-Oriented. They want to be included and involved. \n* Generation Y Craves attention, feedback and guidance. \n* Generation Y Is Prone to Job-Hopping as they're always looking for something new and better. \n\nAn interesting summary is provided by [Goldman Sachs](https://www.goldmansachs.com/insights/archive/millennials/). However, any new location should be \"cool\" with this Generations life style and preferences as to offer a natural cause to remain.\n\n## Success criteria:\nThe analysis is completed if based on the obtained data set, a recommendation of the city and the borough in the city can be made.\n\n## Methodology:\n1. Define the decision matrix, i.e. check what data can support the corresponding attribute in the matrix\n2. Obtain the data\n3. Clean the data\n4. Prepare the data set for the three cities\n5. Cluster the data by determining the optimal cluster number and allow a pre-selection of the recommended city\n6. Based on the pre-selection, run a comparison of the boroughs to match the companies needs best\n7. Conclude the findings in a recommendation\n\n## Data Acquisition and Cleaning\n### Data Sources:\nFor the assignment a wide variety of data sources are used of well-known and regarded sources. The focus on the data sources is on applying three different methodologies to obtain the data\na) API direct connection\nb) csv, xlsx files download\nc) Web crawling, i.e. obtaining information directly from html-code\n\nAll data sources are merged into one data frame based on their geographical identity\n\n**Sources used:**\n* [Foursquare API](https://foursquare.com/developers/)\n* [The World Bank](https://databank.worldbank.org/source/worldwide-governance-indicators#)\n* [OECD](https://stats.oecd.org/)\n* [Renting London](https://www.rentbarometer.com/london/all-prices/by-name.html)\n* [Renting Zurich](https://www.hev-schweiz.ch/vermieten/statistiken/mietpreise/durchschnittliche-mietpreise/)\n* [Buying Barcelona](https://www.statista.com/statistics/765380/average-price-per-square-meter-of-houses-in-barcelona-by-district/)\n* [Statista](https://www.statista.com/)\n* [International transparency report](https://www.transparency.org/en/cpi/2019/results/table)\n\n### Data Cleaning:\nThe data shall be inspected, cleaned and verified to guarantee:\n* high validity, i.e. the degree to which the data conform to defined business rules or constraints\n* high accuracy, i.e. the degree to which the data is close to the true values\n* completeness, i.e. the degree to which all required data is known\n* consistency, i.e. the degree to which the data is consistent\n* high uniformity, i.e. the degree to which the data is specified using the same unit of measure \n\n\n\n"
        },
        {
            "cell_type": "code",
            "execution_count": null,
            "metadata": {},
            "outputs": [],
            "source": ""
        }
    ],
    "metadata": {
        "kernelspec": {
            "display_name": "Python 3.6",
            "language": "python",
            "name": "python3"
        },
        "language_info": {
            "codemirror_mode": {
                "name": "ipython",
                "version": 3
            },
            "file_extension": ".py",
            "mimetype": "text/x-python",
            "name": "python",
            "nbconvert_exporter": "python",
            "pygments_lexer": "ipython3",
            "version": "3.6.9"
        }
    },
    "nbformat": 4,
    "nbformat_minor": 1
}